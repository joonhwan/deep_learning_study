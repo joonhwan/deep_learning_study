{
  "nbformat": 4,
  "nbformat_minor": 0,
  "metadata": {
    "colab": {
      "name": "_6.1 케라스 CNN Fashion MNIST.ipynb",
      "provenance": [],
      "collapsed_sections": [],
      "include_colab_link": true
    },
    "kernelspec": {
      "name": "python3",
      "display_name": "Python 3"
    }
  },
  "cells": [
    {
      "cell_type": "markdown",
      "metadata": {
        "id": "view-in-github",
        "colab_type": "text"
      },
      "source": [
        "<a href=\"https://colab.research.google.com/github/joonhwan/deep_learning_study/blob/main/_6_1_%EC%BC%80%EB%9D%BC%EC%8A%A4_CNN_Fashion_MNIST.ipynb\" target=\"_parent\"><img src=\"https://colab.research.google.com/assets/colab-badge.svg\" alt=\"Open In Colab\"/></a>"
      ]
    },
    {
      "cell_type": "markdown",
      "metadata": {
        "id": "CsSLMAf0eSO0"
      },
      "source": [
        "# 케라스 CNN Fashion MNIST"
      ]
    },
    {
      "cell_type": "markdown",
      "metadata": {
        "id": "COfgTiEIm5B2"
      },
      "source": [
        "#### module import"
      ]
    },
    {
      "cell_type": "code",
      "metadata": {
        "id": "q6BahKjreW2D"
      },
      "source": [
        ""
      ],
      "execution_count": null,
      "outputs": []
    },
    {
      "cell_type": "code",
      "metadata": {
        "id": "VI4-Dt3LeXE_"
      },
      "source": [
        ""
      ],
      "execution_count": null,
      "outputs": []
    },
    {
      "cell_type": "markdown",
      "metadata": {
        "id": "2GFGEes8q0j8"
      },
      "source": [
        "### 데이터 로드 및 전처리"
      ]
    },
    {
      "cell_type": "code",
      "metadata": {
        "id": "ZwXd_3z8eXUE"
      },
      "source": [
        ""
      ],
      "execution_count": null,
      "outputs": []
    },
    {
      "cell_type": "code",
      "metadata": {
        "id": "oiy-BqEreXYl"
      },
      "source": [
        ""
      ],
      "execution_count": null,
      "outputs": []
    },
    {
      "cell_type": "markdown",
      "metadata": {
        "id": "uBENqQ2GtIb0"
      },
      "source": [
        "### 모델 구성 및 컴파일\n",
        "- 임의의 모델"
      ]
    },
    {
      "cell_type": "code",
      "metadata": {
        "id": "zFfgWqvZeXcS"
      },
      "source": [
        ""
      ],
      "execution_count": null,
      "outputs": []
    },
    {
      "cell_type": "markdown",
      "metadata": {
        "id": "hg9FPpsQtsVZ"
      },
      "source": [
        "### 모델 학습\n",
        "- 런타임 GPU로 설정"
      ]
    },
    {
      "cell_type": "code",
      "metadata": {
        "id": "HnW5EjhCeXOU"
      },
      "source": [
        ""
      ],
      "execution_count": null,
      "outputs": []
    },
    {
      "cell_type": "markdown",
      "metadata": {
        "id": "yDA5PTpMt00D"
      },
      "source": [
        "### 학습 결과 시각화"
      ]
    },
    {
      "cell_type": "code",
      "metadata": {
        "id": "rLispmkuw6Qj"
      },
      "source": [
        ""
      ],
      "execution_count": null,
      "outputs": []
    },
    {
      "cell_type": "code",
      "metadata": {
        "id": "YtrfJ5-feXL1"
      },
      "source": [
        ""
      ],
      "execution_count": null,
      "outputs": []
    },
    {
      "cell_type": "markdown",
      "metadata": {
        "id": "pURJLSxTyAom"
      },
      "source": [
        "### 모델 평가"
      ]
    },
    {
      "cell_type": "code",
      "metadata": {
        "id": "sqXT66p-yARc"
      },
      "source": [
        ""
      ],
      "execution_count": null,
      "outputs": []
    },
    {
      "cell_type": "markdown",
      "metadata": {
        "id": "PBjFOlYIxJLS"
      },
      "source": [
        "### 모델 재구성\n",
        "- 학습 파라미터의 수 비교"
      ]
    },
    {
      "cell_type": "code",
      "metadata": {
        "id": "nU2NfK-yeXJS"
      },
      "source": [
        ""
      ],
      "execution_count": null,
      "outputs": []
    },
    {
      "cell_type": "markdown",
      "metadata": {
        "id": "bszItkm1xqwk"
      },
      "source": [
        "### 모델 재학습"
      ]
    },
    {
      "cell_type": "code",
      "metadata": {
        "id": "HBT6wpMyyK7D"
      },
      "source": [
        ""
      ],
      "execution_count": null,
      "outputs": []
    },
    {
      "cell_type": "code",
      "metadata": {
        "id": "23evcI_ueXAe"
      },
      "source": [
        ""
      ],
      "execution_count": null,
      "outputs": []
    },
    {
      "cell_type": "markdown",
      "metadata": {
        "id": "3TcpAiEAyFTZ"
      },
      "source": [
        "### 모델 재평가"
      ]
    },
    {
      "cell_type": "code",
      "metadata": {
        "id": "aeJCOjMBeW9J"
      },
      "source": [
        ""
      ],
      "execution_count": null,
      "outputs": []
    },
    {
      "cell_type": "markdown",
      "metadata": {
        "id": "8ryACRQ7zl9K"
      },
      "source": [
        "## 모델 성능 높이기 - 많은 레이어 쌓기"
      ]
    },
    {
      "cell_type": "code",
      "metadata": {
        "id": "Oen7w4JB0tdW"
      },
      "source": [
        ""
      ],
      "execution_count": null,
      "outputs": []
    },
    {
      "cell_type": "code",
      "metadata": {
        "id": "8sw-QSAleW68"
      },
      "source": [
        ""
      ],
      "execution_count": null,
      "outputs": []
    },
    {
      "cell_type": "markdown",
      "metadata": {
        "id": "sQPKIOk_1t8x"
      },
      "source": [
        "## 모델 학습 및 결과 시각화"
      ]
    },
    {
      "cell_type": "code",
      "metadata": {
        "id": "AnaSooqoeWxk"
      },
      "source": [
        ""
      ],
      "execution_count": null,
      "outputs": []
    },
    {
      "cell_type": "markdown",
      "metadata": {
        "id": "1GgCTofF2rtz"
      },
      "source": [
        "- 과적합은 되지 않았지만 층을 늘려도 좋은 성능을 낼 수 있음"
      ]
    },
    {
      "cell_type": "code",
      "metadata": {
        "id": "Yar1rBvYzs0d"
      },
      "source": [
        ""
      ],
      "execution_count": null,
      "outputs": []
    },
    {
      "cell_type": "code",
      "metadata": {
        "id": "JamGVM0_zsx3"
      },
      "source": [
        ""
      ],
      "execution_count": null,
      "outputs": []
    },
    {
      "cell_type": "markdown",
      "metadata": {
        "id": "GS2ZaZAK6OpK"
      },
      "source": [
        "## 모델 성능 높이기 - 이미지 보강(Image Augmentation)\n",
        "\n",
        "- 주요 인자 참고: https://keras.io/ko/preprocessing/image/"
      ]
    },
    {
      "cell_type": "code",
      "metadata": {
        "id": "j7f3Gn3PzsvA"
      },
      "source": [
        ""
      ],
      "execution_count": null,
      "outputs": []
    },
    {
      "cell_type": "code",
      "metadata": {
        "id": "XHfhm8Cszsst"
      },
      "source": [
        ""
      ],
      "execution_count": null,
      "outputs": []
    },
    {
      "cell_type": "code",
      "metadata": {
        "id": "7hfJVZiizsp2"
      },
      "source": [
        ""
      ],
      "execution_count": null,
      "outputs": []
    },
    {
      "cell_type": "code",
      "metadata": {
        "id": "W3rceiO47Hg5"
      },
      "source": [
        ""
      ],
      "execution_count": null,
      "outputs": []
    },
    {
      "cell_type": "code",
      "metadata": {
        "id": "InlwVwwkzsnl"
      },
      "source": [
        ""
      ],
      "execution_count": null,
      "outputs": []
    },
    {
      "cell_type": "code",
      "metadata": {
        "id": "3gtUutm3zsk2"
      },
      "source": [
        ""
      ],
      "execution_count": null,
      "outputs": []
    },
    {
      "cell_type": "markdown",
      "metadata": {
        "id": "-wFp9Nxl8x_y"
      },
      "source": [
        "데이터 추가"
      ]
    },
    {
      "cell_type": "code",
      "metadata": {
        "id": "b1gyZvPq7iwk"
      },
      "source": [
        ""
      ],
      "execution_count": null,
      "outputs": []
    },
    {
      "cell_type": "code",
      "metadata": {
        "id": "EgjzT45Z82Ia"
      },
      "source": [
        ""
      ],
      "execution_count": null,
      "outputs": []
    },
    {
      "cell_type": "code",
      "metadata": {
        "id": "lWYQ6Y2d82GJ"
      },
      "source": [
        ""
      ],
      "execution_count": null,
      "outputs": []
    },
    {
      "cell_type": "code",
      "metadata": {
        "id": "VuowGhSj82Cw"
      },
      "source": [
        ""
      ],
      "execution_count": null,
      "outputs": []
    },
    {
      "cell_type": "markdown",
      "metadata": {
        "id": "M3PTH2OM9_68"
      },
      "source": [
        "## 모델 학습 및 결과 시각화"
      ]
    },
    {
      "cell_type": "code",
      "metadata": {
        "id": "6EADt4Nj81_-"
      },
      "source": [
        ""
      ],
      "execution_count": null,
      "outputs": []
    },
    {
      "cell_type": "code",
      "metadata": {
        "id": "qe2DGJA77iuV"
      },
      "source": [
        ""
      ],
      "execution_count": null,
      "outputs": []
    },
    {
      "cell_type": "code",
      "metadata": {
        "id": "34FAVRXq7irV"
      },
      "source": [
        ""
      ],
      "execution_count": null,
      "outputs": []
    },
    {
      "cell_type": "markdown",
      "metadata": {
        "id": "Wzr2MFT2NnYn"
      },
      "source": [
        "- 학습 인자를 이전과 다르게 주면서 학습하면 더 잘 나올것으로 판단"
      ]
    },
    {
      "cell_type": "code",
      "metadata": {
        "id": "lIk692YK-pzY"
      },
      "source": [
        ""
      ],
      "execution_count": null,
      "outputs": []
    }
  ]
}