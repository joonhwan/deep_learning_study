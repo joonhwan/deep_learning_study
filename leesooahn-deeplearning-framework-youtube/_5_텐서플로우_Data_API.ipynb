{
  "nbformat": 4,
  "nbformat_minor": 0,
  "metadata": {
    "colab": {
      "name": "_5 텐서플로우 Data API.ipynb",
      "provenance": [],
      "collapsed_sections": [],
      "include_colab_link": true
    },
    "kernelspec": {
      "name": "python3",
      "display_name": "Python 3"
    }
  },
  "cells": [
    {
      "cell_type": "markdown",
      "metadata": {
        "id": "view-in-github",
        "colab_type": "text"
      },
      "source": [
        "<a href=\"https://colab.research.google.com/github/joonhwan/deep_learning_study/blob/main/_5_%ED%85%90%EC%84%9C%ED%94%8C%EB%A1%9C%EC%9A%B0_Data_API.ipynb\" target=\"_parent\"><img src=\"https://colab.research.google.com/assets/colab-badge.svg\" alt=\"Open In Colab\"/></a>"
      ]
    },
    {
      "cell_type": "markdown",
      "metadata": {
        "id": "pvT4Kena44U-"
      },
      "source": [
        "# Data API\n",
        "\n",
        "- `tf.data`: https://www.tensorflow.org/api_docs/python/tf/data\n",
        "- `tf.data.datasets`\n",
        "\n"
      ]
    },
    {
      "cell_type": "markdown",
      "metadata": {
        "id": "qMJ7xx8N882t"
      },
      "source": [
        "## tf.data.datasets"
      ]
    },
    {
      "cell_type": "code",
      "metadata": {
        "id": "uA_5y-rv5K0x"
      },
      "source": [
        ""
      ],
      "execution_count": null,
      "outputs": []
    },
    {
      "cell_type": "code",
      "metadata": {
        "id": "_77BigY5g3hd"
      },
      "source": [
        ""
      ],
      "execution_count": null,
      "outputs": []
    },
    {
      "cell_type": "code",
      "metadata": {
        "id": "wmRzwmofg3ef"
      },
      "source": [
        ""
      ],
      "execution_count": null,
      "outputs": []
    },
    {
      "cell_type": "code",
      "metadata": {
        "id": "PgvmOxeYg3bi"
      },
      "source": [
        ""
      ],
      "execution_count": null,
      "outputs": []
    },
    {
      "cell_type": "markdown",
      "metadata": {
        "id": "adN6woERhQrO"
      },
      "source": [
        "## tf.data\n",
        "\n",
        "- 생성\n",
        "  - `from_tensor_slices()`: 개별 또는 다중 넘파이를 받고, 배치를 지원\n",
        "\n",
        "  - `from_tensors()`: 배치를 지원하지 않음\n",
        "\n",
        "  - `from_generator()`: 생성자 함수에서 입력을 취함\n",
        "\n",
        "- 변환\n",
        "\n",
        "  - `batch()`: 순차적으로 지정한 배치사이즈로 데이터셋을 분할\n",
        "\n",
        "  - `repeat()`: 데이터를 복제\n",
        "\n",
        "  - `shuffle()`: 데이터를 무작위로 섞음\n",
        "\n",
        "  - `map()`: 데이터에 함수를 적용\n",
        "\n",
        "  - `filter()`: 데이터를 거르고자 할 때 사용\n",
        "- 반복\n",
        "  - `next_batch = iterator.get_next()` 사용"
      ]
    },
    {
      "cell_type": "markdown",
      "metadata": {
        "id": "51d2wkdMhTBn"
      },
      "source": [
        "### from_tensor_slices"
      ]
    },
    {
      "cell_type": "code",
      "metadata": {
        "id": "HWzGguIUg3Yi"
      },
      "source": [
        ""
      ],
      "execution_count": null,
      "outputs": []
    },
    {
      "cell_type": "code",
      "metadata": {
        "id": "aaO5aOqsg3Vf"
      },
      "source": [
        ""
      ],
      "execution_count": null,
      "outputs": []
    },
    {
      "cell_type": "code",
      "metadata": {
        "id": "rFKz4nK2g3Sd"
      },
      "source": [
        ""
      ],
      "execution_count": null,
      "outputs": []
    },
    {
      "cell_type": "code",
      "metadata": {
        "id": "gzqeoFS6g3Pg"
      },
      "source": [
        ""
      ],
      "execution_count": null,
      "outputs": []
    },
    {
      "cell_type": "code",
      "metadata": {
        "id": "oBK4nAS7lpBJ"
      },
      "source": [
        ""
      ],
      "execution_count": null,
      "outputs": []
    },
    {
      "cell_type": "markdown",
      "metadata": {
        "id": "8oSVGyqAsJz3"
      },
      "source": [
        "### from_generator()\n",
        "- 해당 클래스 메서드를 사용하면 생성자에서 데이터셋 생성 가능\n",
        "- output_types, output_shapes 인수로 출력 자료형과 크기를 지정해주어야 함"
      ]
    },
    {
      "cell_type": "code",
      "metadata": {
        "id": "5LEG6TzOsOAB"
      },
      "source": [
        ""
      ],
      "execution_count": null,
      "outputs": []
    },
    {
      "cell_type": "code",
      "metadata": {
        "id": "P8X1Mn56sODk"
      },
      "source": [
        ""
      ],
      "execution_count": null,
      "outputs": []
    },
    {
      "cell_type": "code",
      "metadata": {
        "id": "taha_e5QsN2U"
      },
      "source": [
        ""
      ],
      "execution_count": null,
      "outputs": []
    },
    {
      "cell_type": "markdown",
      "metadata": {
        "id": "IQUCMAdilyA1"
      },
      "source": [
        "### batch, repeat\n",
        "- `batch()`: 배치 사이즈 크기\n",
        "- `repeat()`: 반복 횟수"
      ]
    },
    {
      "cell_type": "code",
      "metadata": {
        "id": "qJunKghtl0Mk"
      },
      "source": [
        ""
      ],
      "execution_count": null,
      "outputs": []
    },
    {
      "cell_type": "code",
      "metadata": {
        "id": "EwNlE6d2l0Qy"
      },
      "source": [
        ""
      ],
      "execution_count": null,
      "outputs": []
    },
    {
      "cell_type": "code",
      "metadata": {
        "id": "cul1bFvImVxN"
      },
      "source": [
        ""
      ],
      "execution_count": null,
      "outputs": []
    },
    {
      "cell_type": "code",
      "metadata": {
        "id": "IHZ8JHIBmt_f"
      },
      "source": [
        ""
      ],
      "execution_count": null,
      "outputs": []
    },
    {
      "cell_type": "markdown",
      "metadata": {
        "id": "xCAFfO6hmDDS"
      },
      "source": [
        "### map, filter\n",
        "- 전처리 단계에서 시행하여 원하지 않는 데이터를 거를 수 있음\n",
        "\n",
        "- `tf.Tensor` 자료형을 다룸"
      ]
    },
    {
      "cell_type": "code",
      "metadata": {
        "id": "lw37RX7KvN-K"
      },
      "source": [
        ""
      ],
      "execution_count": null,
      "outputs": []
    },
    {
      "cell_type": "code",
      "metadata": {
        "id": "ubOuEgxal0Hv"
      },
      "source": [
        ""
      ],
      "execution_count": null,
      "outputs": []
    },
    {
      "cell_type": "code",
      "metadata": {
        "id": "jwxn37JRuzjV"
      },
      "source": [
        ""
      ],
      "execution_count": null,
      "outputs": []
    },
    {
      "cell_type": "code",
      "metadata": {
        "id": "FcwzArdpuzad"
      },
      "source": [
        ""
      ],
      "execution_count": null,
      "outputs": []
    },
    {
      "cell_type": "code",
      "metadata": {
        "id": "Tleeqc_GuzUX"
      },
      "source": [
        ""
      ],
      "execution_count": null,
      "outputs": []
    },
    {
      "cell_type": "code",
      "metadata": {
        "id": "0aRvH0yR0H1H"
      },
      "source": [
        ""
      ],
      "execution_count": null,
      "outputs": []
    },
    {
      "cell_type": "code",
      "metadata": {
        "id": "YxvOUl4u0HxH"
      },
      "source": [
        ""
      ],
      "execution_count": null,
      "outputs": []
    },
    {
      "cell_type": "code",
      "metadata": {
        "id": "LeKdClAA0Vjy"
      },
      "source": [
        ""
      ],
      "execution_count": null,
      "outputs": []
    },
    {
      "cell_type": "code",
      "metadata": {
        "id": "mnMR0g6Y0X8g"
      },
      "source": [
        ""
      ],
      "execution_count": null,
      "outputs": []
    },
    {
      "cell_type": "markdown",
      "metadata": {
        "id": "MZlHtx9HiBnw"
      },
      "source": [
        "### shuffle, take"
      ]
    },
    {
      "cell_type": "code",
      "metadata": {
        "id": "yVjGXd0Zg3MV"
      },
      "source": [
        ""
      ],
      "execution_count": null,
      "outputs": []
    },
    {
      "cell_type": "code",
      "metadata": {
        "id": "aIYeC8XMg3JR"
      },
      "source": [
        ""
      ],
      "execution_count": null,
      "outputs": []
    },
    {
      "cell_type": "markdown",
      "metadata": {
        "id": "4OqOaYk6k7wy"
      },
      "source": [
        "### get_next()"
      ]
    },
    {
      "cell_type": "code",
      "metadata": {
        "id": "m57rjJsskp8t"
      },
      "source": [
        ""
      ],
      "execution_count": null,
      "outputs": []
    },
    {
      "cell_type": "code",
      "metadata": {
        "id": "vitlC-JCkp4U"
      },
      "source": [
        ""
      ],
      "execution_count": null,
      "outputs": []
    },
    {
      "cell_type": "code",
      "metadata": {
        "id": "6o4XRcpLg3Fm"
      },
      "source": [
        ""
      ],
      "execution_count": null,
      "outputs": []
    },
    {
      "cell_type": "markdown",
      "metadata": {
        "id": "oAK97VN4JObZ"
      },
      "source": [
        "## tf.dataset을 이용한 Fashion-MNIST 분류"
      ]
    },
    {
      "cell_type": "markdown",
      "metadata": {
        "id": "8FyGWr9h5s9m"
      },
      "source": [
        "### modules import"
      ]
    },
    {
      "cell_type": "code",
      "metadata": {
        "id": "wtumZQhkobI5"
      },
      "source": [
        ""
      ],
      "execution_count": null,
      "outputs": []
    },
    {
      "cell_type": "markdown",
      "metadata": {
        "id": "VOTtgNwc3R6f"
      },
      "source": [
        "### 데이터 로드"
      ]
    },
    {
      "cell_type": "code",
      "metadata": {
        "id": "8434sHHjob1L"
      },
      "source": [
        ""
      ],
      "execution_count": null,
      "outputs": []
    },
    {
      "cell_type": "code",
      "metadata": {
        "id": "bfxxi0TJ3kwq"
      },
      "source": [
        ""
      ],
      "execution_count": null,
      "outputs": []
    },
    {
      "cell_type": "markdown",
      "metadata": {
        "id": "PPR9OD1w3mBQ"
      },
      "source": [
        "### 데이터 전처리"
      ]
    },
    {
      "cell_type": "code",
      "metadata": {
        "id": "U3W43mhxob4P"
      },
      "source": [
        ""
      ],
      "execution_count": null,
      "outputs": []
    },
    {
      "cell_type": "markdown",
      "metadata": {
        "id": "nm8NM-QX32sf"
      },
      "source": [
        "### tf.data 이용"
      ]
    },
    {
      "cell_type": "code",
      "metadata": {
        "id": "VC9howR-obaW"
      },
      "source": [
        ""
      ],
      "execution_count": null,
      "outputs": []
    },
    {
      "cell_type": "code",
      "metadata": {
        "id": "FkbVvnrU5Idc"
      },
      "source": [
        ""
      ],
      "execution_count": null,
      "outputs": []
    },
    {
      "cell_type": "markdown",
      "metadata": {
        "id": "aXJEB1qg4eB0"
      },
      "source": [
        "### 데이터 확인"
      ]
    },
    {
      "cell_type": "code",
      "metadata": {
        "id": "COlETHf2obVD"
      },
      "source": [
        ""
      ],
      "execution_count": null,
      "outputs": []
    },
    {
      "cell_type": "markdown",
      "metadata": {
        "id": "-2PTjY1D5g4L"
      },
      "source": [
        "### 모델 생성\n",
        "- 임의의 모델"
      ]
    },
    {
      "cell_type": "code",
      "metadata": {
        "id": "g29WUBIKobRN"
      },
      "source": [
        ""
      ],
      "execution_count": null,
      "outputs": []
    },
    {
      "cell_type": "code",
      "metadata": {
        "id": "q7YYIDZq8iRN"
      },
      "source": [
        ""
      ],
      "execution_count": null,
      "outputs": []
    },
    {
      "cell_type": "code",
      "metadata": {
        "id": "qNlPrHBT9w-G"
      },
      "source": [
        ""
      ],
      "execution_count": null,
      "outputs": []
    },
    {
      "cell_type": "markdown",
      "metadata": {
        "id": "8noHcg8C6xMM"
      },
      "source": [
        "### 모델 컴파일\n",
        "- 평가(metrics)방식의 다른 방법\n",
        "  - `tf.keras.metrics.Mean`\n",
        "  - `tf.keras.metrics.SparseCategoricalAccuracy`\n",
        "\n",
        "- 위 두 방식을 사용하여 loss값을 좀 더 smooth하게 만들기(평균을 내는 방식)"
      ]
    },
    {
      "cell_type": "code",
      "metadata": {
        "id": "gpjwC1pa7pvI"
      },
      "source": [
        ""
      ],
      "execution_count": null,
      "outputs": []
    },
    {
      "cell_type": "code",
      "metadata": {
        "id": "DSA2H53-6967"
      },
      "source": [
        ""
      ],
      "execution_count": null,
      "outputs": []
    },
    {
      "cell_type": "markdown",
      "metadata": {
        "id": "1uC7KjrU6WqL"
      },
      "source": [
        "### 모델 학습"
      ]
    },
    {
      "cell_type": "markdown",
      "metadata": {
        "id": "ZTF2mvFYRoj_"
      },
      "source": [
        "@tf.function 으로 인해 학습이 시작되면 그래프를 생성하여 속도가 빠름\n"
      ]
    },
    {
      "cell_type": "code",
      "metadata": {
        "id": "rRw0DDmqobEv"
      },
      "source": [
        ""
      ],
      "execution_count": null,
      "outputs": []
    },
    {
      "cell_type": "code",
      "metadata": {
        "id": "rKoMJ7iJobB_"
      },
      "source": [
        ""
      ],
      "execution_count": null,
      "outputs": []
    },
    {
      "cell_type": "code",
      "metadata": {
        "id": "sYkJhFWIoa_m"
      },
      "source": [
        ""
      ],
      "execution_count": null,
      "outputs": []
    },
    {
      "cell_type": "markdown",
      "metadata": {
        "id": "ZEUXDyCMKWRo"
      },
      "source": [
        "### 모델 학습 : 2번째 방법 (Keras)"
      ]
    },
    {
      "cell_type": "code",
      "metadata": {
        "id": "TRlqurJ_Mz6v"
      },
      "source": [
        ""
      ],
      "execution_count": null,
      "outputs": []
    },
    {
      "cell_type": "code",
      "metadata": {
        "id": "XGLv1B6-KiWK"
      },
      "source": [
        ""
      ],
      "execution_count": null,
      "outputs": []
    },
    {
      "cell_type": "markdown",
      "metadata": {
        "id": "xBBuYErFFj0b"
      },
      "source": [
        "5~6분 소요"
      ]
    },
    {
      "cell_type": "code",
      "metadata": {
        "id": "32TtgSsWLT-0"
      },
      "source": [
        ""
      ],
      "execution_count": null,
      "outputs": []
    },
    {
      "cell_type": "code",
      "metadata": {
        "id": "TYEmlqkGKZbH"
      },
      "source": [
        ""
      ],
      "execution_count": null,
      "outputs": []
    },
    {
      "cell_type": "code",
      "metadata": {
        "id": "RaeHz1VFKZVM"
      },
      "source": [
        ""
      ],
      "execution_count": null,
      "outputs": []
    },
    {
      "cell_type": "markdown",
      "metadata": {
        "id": "5pJ6MDW9CcwX"
      },
      "source": [
        "### 모델 평가"
      ]
    },
    {
      "cell_type": "code",
      "metadata": {
        "id": "e4MxgLKOCeL9"
      },
      "source": [
        ""
      ],
      "execution_count": null,
      "outputs": []
    },
    {
      "cell_type": "markdown",
      "metadata": {
        "id": "8McnnarjV2Tf"
      },
      "source": [
        "### 결과 확인"
      ]
    },
    {
      "cell_type": "code",
      "metadata": {
        "id": "7zHvs2FICeHD"
      },
      "source": [
        ""
      ],
      "execution_count": null,
      "outputs": []
    },
    {
      "cell_type": "code",
      "metadata": {
        "id": "L9TlZb73CeEj"
      },
      "source": [
        ""
      ],
      "execution_count": null,
      "outputs": []
    },
    {
      "cell_type": "code",
      "metadata": {
        "id": "tLU39hstWLfh"
      },
      "source": [
        ""
      ],
      "execution_count": null,
      "outputs": []
    },
    {
      "cell_type": "code",
      "metadata": {
        "id": "VvN3dvdZWXRd"
      },
      "source": [
        ""
      ],
      "execution_count": null,
      "outputs": []
    },
    {
      "cell_type": "code",
      "metadata": {
        "id": "gXCeb-f2WYm1"
      },
      "source": [
        ""
      ],
      "execution_count": null,
      "outputs": []
    },
    {
      "cell_type": "code",
      "metadata": {
        "id": "E_7gFZNAWZip"
      },
      "source": [
        ""
      ],
      "execution_count": null,
      "outputs": []
    },
    {
      "cell_type": "markdown",
      "metadata": {
        "id": "MJL5wVZiWqtw"
      },
      "source": [
        "### Test Batch Dataset"
      ]
    },
    {
      "cell_type": "code",
      "metadata": {
        "id": "joaO3OqrWxIp"
      },
      "source": [
        ""
      ],
      "execution_count": null,
      "outputs": []
    },
    {
      "cell_type": "code",
      "metadata": {
        "id": "OxqBhlqXWmXl"
      },
      "source": [
        ""
      ],
      "execution_count": null,
      "outputs": []
    },
    {
      "cell_type": "code",
      "metadata": {
        "id": "5Pgwy4yXW2dt"
      },
      "source": [
        ""
      ],
      "execution_count": null,
      "outputs": []
    },
    {
      "cell_type": "code",
      "metadata": {
        "id": "53xdFvATW85m"
      },
      "source": [
        ""
      ],
      "execution_count": null,
      "outputs": []
    }
  ]
}